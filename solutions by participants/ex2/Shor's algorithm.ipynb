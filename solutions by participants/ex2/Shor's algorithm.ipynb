{
 "cells": [
  {
   "cell_type": "code",
   "execution_count": 1,
   "id": "5ee0e692",
   "metadata": {},
   "outputs": [],
   "source": [
    "import numpy as np\n",
    "# Importing standard Qiskit libraries\n",
    "from qiskit import QuantumCircuit, transpile, Aer, IBMQ\n",
    "from qiskit.tools.jupyter import *\n",
    "from qiskit.visualization import *\n",
    "from ibm_quantum_widgets import *\n",
    "from qiskit import QuantumCircuit\n",
    "from qiskit import QuantumRegister, QuantumCircuit\n",
    "from qc_grader import grade_ex2a\n",
    "from qc_grader import grade_ex2b\n",
    "from qc_grader import grade_ex2c\n",
    "from qc_grader import grade_ex2_final\n",
    "from qiskit import transpile\n",
    "\n",
    "# Loading your IBM Quantum account(s)\n",
    "provider = IBMQ.load_account()"
   ]
  },
  {
   "cell_type": "markdown",
   "id": "d968f16b",
   "metadata": {},
   "source": [
    "# Theory\n",
    "--------------------------------------------------------------------------------------------------------------------\n",
    "Theory\n",
    "$$\n",
    "\\begin{aligned}\n",
    "U|1\\rangle = |13\\rangle \\\\\n",
    "UU|1\\rangle = |29\\rangle \\\\\n",
    "UUU|1\\rangle = |27\\rangle \\\\\n",
    "UUUU|1\\rangle = |1\\rangle \\\\\n",
    "\\end{aligned}\n",
    "$$\n",
    "$$\n",
    "\\begin{aligned}\n",
    "|1\\rangle \\rightarrow |00\\rangle \\\\\n",
    "|13\\rangle \\rightarrow |01\\rangle \\\\\n",
    "|29\\rangle \\rightarrow |10\\rangle \\\\\n",
    "|27\\rangle \\rightarrow |11\\rangle \\\\\n",
    "\\end{aligned}\n",
    "$$\n",
    "To do phase estimation on $U$, we need to create circuits that perform $U^{2^x}$ ($U$ repeated $2^x$ times) for each qubit (with index $x$) in our register of $n$ counting qubits. In our case this means we need three circuits that implement:\n",
    "\n",
    "$$ U, \\; U^2, \\; \\text{and} \\; U^4 $$"
   ]
  },
  {
   "cell_type": "markdown",
   "id": "e1a468b7",
   "metadata": {},
   "source": [
    "# 1. Circuit for $U$\n",
    "$$\n",
    "\\begin{aligned}\n",
    "U|00\\rangle = |01\\rangle \\\\\n",
    "U|01\\rangle = |10\\rangle \\\\\n",
    "U|10\\rangle = |11\\rangle \\\\\n",
    "U|11\\rangle = |00\\rangle \\\\\n",
    "\\end{aligned}\n",
    "$$"
   ]
  },
  {
   "cell_type": "code",
   "execution_count": 2,
   "id": "9d2f678b",
   "metadata": {},
   "outputs": [
    {
     "data": {
      "image/png": "[encoded data removed]",
      "text/plain": [
       "<Figure size 266.127x204.68 with 1 Axes>"
      ]
     },
     "execution_count": 2,
     "metadata": {},
     "output_type": "execute_result"
    }
   ],
   "source": [
    "c = QuantumRegister(1, 'control')\n",
    "t = QuantumRegister(2, 'target')\n",
    "cu = QuantumCircuit(c, t, name=\"Controlled 13^x mod 35\")\n",
    "\n",
    "# WRITE YOUR CODE BETWEEN THESE LINES - START\n",
    "u=QuantumCircuit(2)\n",
    "u.cx(0,1)\n",
    "u.x(0)\n",
    "g=u.to_gate().control(1)\n",
    "cu.append(g,[0,1,2])\n",
    "cu=cu.decompose()\n",
    "cu.draw('mpl')"
   ]
  },
  {
   "cell_type": "markdown",
   "id": "d997a640",
   "metadata": {},
   "source": [
    "### Grading"
   ]
  },
  {
   "cell_type": "code",
   "execution_count": 3,
   "id": "3de717d3",
   "metadata": {},
   "outputs": [
    {
     "name": "stdout",
     "output_type": "stream",
     "text": [
      "Grading your answer for ex2/part1. Please wait...\n",
      "\n",
      "Congratulations 🎉! Your answer is correct.\n"
     ]
    }
   ],
   "source": [
    "# Check your answer using following code\n",
    "from qc_grader import grade_ex2a\n",
    "grade_ex2a(cu)"
   ]
  },
  {
   "cell_type": "markdown",
   "id": "451ca329",
   "metadata": {},
   "source": [
    "# 2. Circuit for $U^{2}$\n",
    "$$\n",
    "\\begin{aligned}\n",
    "U|00\\rangle = |10\\rangle \\\\\n",
    "U|01\\rangle = |11\\rangle \\\\\n",
    "U|10\\rangle = |00\\rangle \\\\\n",
    "U|11\\rangle = |01\\rangle \\\\\n",
    "\\end{aligned}\n",
    "$$"
   ]
  },
  {
   "cell_type": "code",
   "execution_count": 4,
   "id": "e271a499",
   "metadata": {},
   "outputs": [
    {
     "data": {
      "image/png": "[encoded data removed]",
      "text/plain": [
       "<Figure size 386.527x204.68 with 1 Axes>"
      ]
     },
     "execution_count": 4,
     "metadata": {},
     "output_type": "execute_result"
    }
   ],
   "source": [
    "c = QuantumRegister(1, 'control')\n",
    "t = QuantumRegister(2, 'target')\n",
    "cu2 = QuantumCircuit(c, t)\n",
    "cu2.append(g,[0,1,2])\n",
    "cu2.append(g,[0,1,2])\n",
    "cu2=cu2.decompose()\n",
    "cu2.draw('mpl')"
   ]
  },
  {
   "cell_type": "markdown",
   "id": "024e5252",
   "metadata": {},
   "source": [
    "#### Grading"
   ]
  },
  {
   "cell_type": "code",
   "execution_count": 5,
   "id": "f3a24312",
   "metadata": {},
   "outputs": [
    {
     "name": "stdout",
     "output_type": "stream",
     "text": [
      "Grading your answer for ex2/part2. Please wait...\n",
      "\n",
      "Congratulations 🎉! Your answer is correct.\n"
     ]
    }
   ],
   "source": [
    "grade_ex2b(cu2)"
   ]
  },
  {
   "cell_type": "markdown",
   "id": "c5940708",
   "metadata": {},
   "source": [
    "# 3. Circuit for $U^{4}$\n",
    "$$\n",
    "\\begin{aligned}\n",
    "U|00\\rangle= |00\\rangle \\\\\n",
    "U|01\\rangle = |01\\rangle \\\\\n",
    "U|10\\rangle= |10\\rangle \\\\\n",
    "U|11\\rangle = |11\\rangle \\\\\n",
    "\\end{aligned}\n",
    "$$"
   ]
  },
  {
   "cell_type": "code",
   "execution_count": 6,
   "id": "66d8bad5",
   "metadata": {},
   "outputs": [
    {
     "data": {
      "image/png": "[encoded data removed]",
      "text/plain": [
       "<Figure size 175.827x204.68 with 1 Axes>"
      ]
     },
     "execution_count": 6,
     "metadata": {},
     "output_type": "execute_result"
    }
   ],
   "source": [
    "c = QuantumRegister(1, 'control')\n",
    "t = QuantumRegister(2, 'target')\n",
    "cu4 = QuantumCircuit(c, t)\n",
    "cu4.draw('mpl')"
   ]
  },
  {
   "cell_type": "markdown",
   "id": "bebaa5c3",
   "metadata": {},
   "source": [
    "#### Grading"
   ]
  },
  {
   "cell_type": "code",
   "execution_count": 7,
   "id": "5d124a52",
   "metadata": {},
   "outputs": [
    {
     "name": "stdout",
     "output_type": "stream",
     "text": [
      "Grading your answer for ex2/part3. Please wait...\n",
      "\n",
      "Congratulations 🎉! Your answer is correct.\n"
     ]
    }
   ],
   "source": [
    "grade_ex2c(cu4)"
   ]
  },
  {
   "cell_type": "markdown",
   "id": "dd2ca40e",
   "metadata": {},
   "source": [
    "# 4. Final Combined\n",
    "Our task is to create a circuit that carries out the controlled-$U$s, that will be used in-between the initialization and the inverse quantum Fourier transform. More formally, we want a circuit:\n",
    "\n",
    "$$\n",
    "CU_{c_0 t}CU^2_{c_1 t}CU^4_{c_2 t}\n",
    "$$\n",
    "Where $c_0$, $c_1$ and $c_2$ are the three qubits in the ‘counting’ register, $t$ is the ‘target’ register, and $U$ is circuit created. In this notation, $CU_{a b}$ means $CU$ is controlled by $a$ and acts on $b$. An easy solution to this is to simply combine the circuits cu, cu2 and cu4 that you created above, but you will most likely find a more efficient circuit that has the same behavior!\n",
    "\n",
    "Our circuit can only contain $C_{NOT}$ and single qubit $U$ gates."
   ]
  },
  {
   "cell_type": "code",
   "execution_count": 8,
   "id": "81840ccc",
   "metadata": {},
   "outputs": [
    {
     "data": {
      "image/png": "[encoded data removed]",
      "text/plain": [
       "<Figure size 507.218x325.08 with 1 Axes>"
      ]
     },
     "execution_count": 8,
     "metadata": {},
     "output_type": "execute_result"
    }
   ],
   "source": [
    "# Code to combine your previous solutions into your final submission\n",
    "cqr = QuantumRegister(3, 'control')\n",
    "tqr = QuantumRegister(2, 'target')\n",
    "cux = QuantumCircuit(cqr, tqr)\n",
    "solutions = [cu, cu2, cu4]\n",
    "for i in range(3):\n",
    "    cux = cux.compose(solutions[i], [cqr[i], tqr[0], tqr[1]])\n",
    "cux.draw('mpl')"
   ]
  },
  {
   "cell_type": "markdown",
   "id": "9d3d3a3b",
   "metadata": {},
   "source": [
    "#### Grading"
   ]
  },
  {
   "cell_type": "code",
   "execution_count": 9,
   "id": "bf65f301",
   "metadata": {},
   "outputs": [
    {
     "name": "stdout",
     "output_type": "stream",
     "text": [
      "Grading your answer for ex2/part4. Please wait...\n",
      "\n",
      "Congratulations 🎉! Your answer is correct.\n",
      "Your cost is 15.\n",
      "Feel free to submit your answer.\r\n",
      "\n"
     ]
    }
   ],
   "source": [
    "cux = transpile(cux, basis_gates=['cx','u'])\n",
    "grade_ex2_final(cux)"
   ]
  }
 ],
 "metadata": {
  "kernelspec": {
   "display_name": "Python 3",
   "language": "python",
   "name": "python3"
  },
  "language_info": {
   "codemirror_mode": {
    "name": "ipython",
    "version": 3
   },
   "file_extension": ".py",
   "mimetype": "text/x-python",
   "name": "python",
   "nbconvert_exporter": "python",
   "pygments_lexer": "ipython3",
   "version": "3.8.8"
  }
 },
 "nbformat": 4,
 "nbformat_minor": 5
}
