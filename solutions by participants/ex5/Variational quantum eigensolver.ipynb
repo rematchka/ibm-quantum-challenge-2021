{
 "cells": [
  {
   "cell_type": "markdown",
   "id": "3b6be55f",
   "metadata": {},
   "source": [
    "# Imports"
   ]
  },
  {
   "cell_type": "code",
   "execution_count": 2,
   "id": "e6bdfbc2",
   "metadata": {},
   "outputs": [
    {
     "name": "stderr",
     "output_type": "stream",
     "text": [
      "ibmqfactory.load_account:WARNING:2021-05-27 11:29:36,344: Credentials are already in use. The existing account in the session will be replaced.\n"
     ]
    }
   ],
   "source": [
    "import numpy as np\n",
    "# Importing standard Qiskit libraries\n",
    "from qiskit import QuantumCircuit, transpile, Aer, IBMQ\n",
    "from qiskit.tools.jupyter import *\n",
    "from qiskit.visualization import *\n",
    "from ibm_quantum_widgets import *\n",
    "from qiskit_nature.drivers import PySCFDriver\n",
    "from qiskit_nature.problems.second_quantization.electronic import ElectronicStructureProblem\n",
    "from qiskit_nature.mappers.second_quantization import ParityMapper, BravyiKitaevMapper, JordanWignerMapper\n",
    "from qiskit_nature.converters.second_quantization.qubit_converter import QubitConverter\n",
    "from qiskit_nature.circuit.library import HartreeFock\n",
    "from qiskit.circuit.library import TwoLocal\n",
    "from qiskit_nature.circuit.library import UCCSD, PUCCD, SUCCD\n",
    "from qiskit import Aer\n",
    "from qiskit.algorithms.optimizers import COBYLA, L_BFGS_B, SPSA, SLSQP\n",
    "from qiskit_nature.algorithms.ground_state_solvers.minimum_eigensolver_factories import NumPyMinimumEigensolverFactory\n",
    "from qiskit_nature.algorithms.ground_state_solvers import GroundStateEigensolver\n",
    "import numpy as np \n",
    "from qiskit.algorithms import VQE\n",
    "from IPython.display import display, clear_output\n",
    "from qiskit.transpiler import PassManager\n",
    "from qiskit.transpiler.passes import Unroller\n",
    "from qiskit_nature.transformers import FreezeCoreTransformer\n",
    "\n",
    "\n",
    "# Loading your IBM Quantum account(s)\n",
    "provider = IBMQ.load_account()"
   ]
  },
  {
   "cell_type": "markdown",
   "id": "ce0aa37a",
   "metadata": {},
   "source": [
    "# 1. Initializing the atomic structure of LiH using PySCF driver¶\n",
    "\n"
   ]
  },
  {
   "cell_type": "markdown",
   "id": "82a9948e",
   "metadata": {},
   "source": [
    "First we initialize the LiH molecule (this code was already provided in the exercise) in the most stable configuration of inter-atomic distance i.e. at 1.5474Å between the Li and H atoms.\n",
    "\n",
    "The interfaces to the classical chemistry codes that are available in Qiskit are called drivers. There are multiple drivers available: PSI4Driver, PyQuanteDriver, PySCFDriver.\n",
    "\n",
    "We will be running PySCFDriveron the molecule to obtain a QMolecule data class which will contain the driver result."
   ]
  },
  {
   "cell_type": "code",
   "execution_count": 3,
   "id": "04c2e80c",
   "metadata": {},
   "outputs": [],
   "source": [
    "molecule = 'Li 0.0 0.0 0.0; H 0.0 0.0 1.5474'\n",
    "driver = PySCFDriver(atom=molecule)\n",
    "qmolecule = driver.run()"
   ]
  },
  {
   "cell_type": "code",
   "execution_count": 4,
   "id": "635da5cc",
   "metadata": {},
   "outputs": [
    {
     "name": "stdout",
     "output_type": "stream",
     "text": [
      "No. of Electrons: 4\n",
      "No. of Molecular Orbitals: 6\n",
      "No. of Spin Orbitals: 12\n",
      "No. of Qubits Needed: 12\n",
      "Nuclear Repulsion Energy: 1.0259348796432726\n"
     ]
    }
   ],
   "source": [
    "print(\"No. of Electrons: {}\".format(qmolecule.num_alpha + qmolecule.num_beta))\n",
    "print(\"No. of Molecular Orbitals: {}\".format(qmolecule.num_molecular_orbitals))\n",
    "print(\"No. of Spin Orbitals: {}\".format(2 * qmolecule.num_molecular_orbitals))\n",
    "print(\"No. of Qubits Needed: {}\".format(2 * qmolecule.num_molecular_orbitals))\n",
    "print(\"Nuclear Repulsion Energy: {}\".format(qmolecule.nuclear_repulsion_energy))"
   ]
  },
  {
   "cell_type": "markdown",
   "id": "31abd8a5",
   "metadata": {},
   "source": [
    "# 2. Electronic structure problem"
   ]
  },
  {
   "cell_type": "markdown",
   "id": "0fbf99d2",
   "metadata": {},
   "source": [
    "You can then create an ElectronicStructureProblem that can produce the list of fermionic operators before mapping them to qubits (Pauli strings).\n",
    "We will reduces the QMolecule by removing some molecular orbitals which don't contribute much using FreezeCoreTransformer\n",
    "The core of the molecule is frozen to reduce the number of qubits and orbitals 3 and 4 are removed as they do not contribute much to the resulting ground state energy.\n",
    "\n",
    "Identifying the orbitals that can savely be removed while retaining the desired ground energy up to the required precision was a key factor here."
   ]
  },
  {
   "cell_type": "code",
   "execution_count": 5,
   "id": "85a8454a",
   "metadata": {},
   "outputs": [],
   "source": [
    "freezeCoreTransform=FreezeCoreTransformer(True,[4,3])\n",
    "# specify problem and freeze transformation\n",
    "problem = ElectronicStructureProblem(driver,[freezeCoreTransform])\n",
    "# Generate the second-quantized operators\n",
    "second_q_ops = problem.second_q_ops()\n",
    "\n",
    "# Hamiltonian\n",
    "main_op = second_q_ops[0]\n"
   ]
  },
  {
   "cell_type": "markdown",
   "id": "ae97c7c0",
   "metadata": {},
   "source": [
    "# 3. QubitConverter"
   ]
  },
  {
   "cell_type": "markdown",
   "id": "baf49d74",
   "metadata": {},
   "source": [
    "Allows to define the mapping that you will use in the simulation. There are different mapping available but we will be using ParityMapper as we will be doing two_qubit_reduction and z2symmetry to reduce the no. of qubits as low as possible.\n",
    "In case the core is frozen, orbitals 3 and 4 are frozen, and parity mapping with two-qubit reduction is chosen, there is one symmetry that can be exploited to reduce the problem size."
   ]
  },
  {
   "cell_type": "code",
   "execution_count": 6,
   "id": "e701716d",
   "metadata": {},
   "outputs": [],
   "source": [
    "mapper_type = 'ParityMapper'\n",
    "\n",
    "if mapper_type == 'ParityMapper':\n",
    "    mapper = ParityMapper()\n",
    "elif mapper_type == 'JordanWignerMapper':\n",
    "    mapper = JordanWignerMapper()\n",
    "elif mapper_type == 'BravyiKitaevMapper':\n",
    "    mapper = BravyiKitaevMapper()\n",
    "\n",
    "converter = QubitConverter(mapper=mapper, two_qubit_reduction=True,z2symmetry_reduction=[1])\n"
   ]
  },
  {
   "cell_type": "markdown",
   "id": "67e9afc4",
   "metadata": {},
   "source": [
    "# 4. Generating the initial state"
   ]
  },
  {
   "cell_type": "markdown",
   "id": "bcbc256e",
   "metadata": {},
   "source": [
    "Then, we finally generate our qubit operators which are derived from the fermionic operators after this whole conversion procedure. The variable qubit_op stores the qubit operators as an array of spare pauli operations applied to initialise the qubits into the proper state corresponding to the quantum wavefunction of the $LiH$ molecule."
   ]
  },
  {
   "cell_type": "code",
   "execution_count": 7,
   "id": "e18f8eb1",
   "metadata": {},
   "outputs": [],
   "source": [
    "# The fermionic operators are mapped to qubit operators\n",
    "num_particles = (problem.molecule_data_transformed.num_alpha,\n",
    "             problem.molecule_data_transformed.num_beta)\n",
    "qubit_op = converter.convert(main_op, num_particles=num_particles)\n",
    "\n",
    "num_particles = (problem.molecule_data_transformed.num_alpha,\n",
    "             problem.molecule_data_transformed.num_beta)\n",
    "num_spin_orbitals = 2 * problem.molecule_data_transformed.num_molecular_orbitals"
   ]
  },
  {
   "cell_type": "markdown",
   "id": "6e2616c9",
   "metadata": {},
   "source": [
    "For generating the initial state, we resort to the Hartree-Fock perturbation theory in order to approximate the qubit operator qubit_op as a string of Pauli gates that can be applied to initialize the state of the system.\n",
    "\n",
    "We can achieve this by using the HartreeFock class found in the qiskit_nature.circuit.library package like so,"
   ]
  },
  {
   "cell_type": "code",
   "execution_count": 8,
   "id": "72410e67",
   "metadata": {},
   "outputs": [],
   "source": [
    "init_state = HartreeFock(num_spin_orbitals, num_particles, converter)\n"
   ]
  },
  {
   "cell_type": "markdown",
   "id": "51833556",
   "metadata": {},
   "source": [
    "# 5. Ansatz¶\n"
   ]
  },
  {
   "cell_type": "markdown",
   "id": "4ae2585a",
   "metadata": {},
   "source": [
    "One of the most important choices is the quantum circuit that you choose to approximate your ground state. Here is the example of qiskit circuit library that contains many possibilities for making your own circuit.\n",
    "\n",
    "\n",
    "The ansatz used was TwoLocal, with rotation layers as ['ry', 'rz'] entanglement gate was only cx, linear type of entanglement, repetitions set to 1. Idea was to get maximum entanglement with minimum circuit depth, all the while satisfying the costs.\n",
    "\n",
    "First it started out with initial TWoLocal provided, then i tried to used different rotation layers which didn't impact performance signifiicantly.\n",
    "Then i started to decrease repetition graduly and experimented with different entanglment types and optimizers\n",
    "\n",
    "\n",
    "1- At first i tried Z2symmetries + two qubit reduction with 5 repetition layers, which achieved around 140 cnot\n",
    "\n",
    "2- tried to decrease number of repetition to 3, with  SLSQP optimizers, which decreased number of cnot to 12\n",
    "\n",
    "3- tried to experiment with freeze core and orbital removal, with different optimizers, which decreased number of cnot to 6\n",
    "\n",
    "4- finally experimenting with shape of entaglment achieved, circular achieved 4 cnot, linear to 3 cnot\n",
    "\n"
   ]
  },
  {
   "cell_type": "code",
   "execution_count": 9,
   "id": "100f1a3c",
   "metadata": {},
   "outputs": [],
   "source": [
    "ansatz_type = \"TwoLocal\"\n",
    "\n",
    "# Parameters for q-UCC antatze\n",
    "num_particles = (problem.molecule_data_transformed.num_alpha,\n",
    "             problem.molecule_data_transformed.num_beta)\n",
    "num_spin_orbitals = 2 * problem.molecule_data_transformed.num_molecular_orbitals\n",
    "\n",
    "# Put arguments for twolocal\n",
    "if ansatz_type == \"TwoLocal\":\n",
    "    # Single qubit rotations that are placed on all qubits with independent parameters\n",
    "    rotation_blocks = ['ry','rz']\n",
    "    # Entangling gates\n",
    "    entanglement_blocks = 'cx'\n",
    "    # How the qubits are entangled \n",
    "    entanglement = 'linear'\n",
    "    # Repetitions of rotation_blocks + entanglement_blocks with independent parameters\n",
    "    repetitions = 1\n",
    "    # Skip the final rotation_blocks layer\n",
    "    skip_final_rotation_layer = False\n",
    "    ansatz = TwoLocal(qubit_op.num_qubits, rotation_blocks, entanglement_blocks, reps=repetitions, \n",
    "                      entanglement=entanglement, skip_final_rotation_layer=skip_final_rotation_layer)\n",
    "    # Add the initial state\n",
    "    ansatz.compose(init_state, front=True, inplace=True)\n",
    "elif ansatz_type == \"UCCSD\":\n",
    "    ansatz = UCCSD(converter,num_particles,num_spin_orbitals,initial_state = init_state)\n",
    "elif ansatz_type == \"PUCCD\":\n",
    "    ansatz = PUCCD(converter,num_particles,num_spin_orbitals,initial_state = init_state)\n",
    "elif ansatz_type == \"SUCCD\":\n",
    "    ansatz = SUCCD(converter,num_particles,num_spin_orbitals,initial_state = init_state)\n",
    "elif ansatz_type == \"Custom\":\n",
    "    # Example of how to write your own circuit\n",
    "    from qiskit.circuit import Parameter, QuantumCircuit, QuantumRegister\n",
    "    # Define the variational parameter\n",
    "    theta = Parameter('a')\n",
    "    n = qubit_op.num_qubits\n",
    "    # Make an empty quantum circuit\n",
    "    qc = QuantumCircuit(qubit_op.num_qubits)\n",
    "    qubit_label = 0\n",
    "    # Place a Hadamard gate\n",
    "    qc.h(qubit_label)\n",
    "    # Place a CNOT ladder\n",
    "    for i in range(n-1):\n",
    "        qc.cx(i, i+1)\n",
    "    # Visual separator\n",
    "    qc.barrier()\n",
    "    # rz rotations on all qubits\n",
    "    qc.rz(theta, range(n))\n",
    "    ansatz = qc\n",
    "    ansatz.compose(init_state, front=True, inplace=True)"
   ]
  },
  {
   "cell_type": "code",
   "execution_count": 10,
   "id": "cf897c2a",
   "metadata": {},
   "outputs": [
    {
     "name": "stdout",
     "output_type": "stream",
     "text": [
      "        ┌───┐    ┌──────────┐┌──────────┐     ┌──────────┐┌───────────┐»\n",
      "q_0: ───┤ X ├────┤ RY(θ[0]) ├┤ RZ(θ[4]) ├──■──┤ RY(θ[8]) ├┤ RZ(θ[12]) ├»\n",
      "        ├───┤    ├──────────┤├──────────┤┌─┴─┐└──────────┘└┬──────────┤»\n",
      "q_1: ───┤ X ├────┤ RY(θ[1]) ├┤ RZ(θ[5]) ├┤ X ├─────■───────┤ RY(θ[9]) ├»\n",
      "     ┌──┴───┴───┐├──────────┤└──────────┘└───┘   ┌─┴─┐     └──────────┘»\n",
      "q_2: ┤ RY(θ[2]) ├┤ RZ(θ[6]) ├────────────────────┤ X ├──────────■──────»\n",
      "     ├──────────┤├──────────┤                    └───┘        ┌─┴─┐    »\n",
      "q_3: ┤ RY(θ[3]) ├┤ RZ(θ[7]) ├─────────────────────────────────┤ X ├────»\n",
      "     └──────────┘└──────────┘                                 └───┘    »\n",
      "«                               \n",
      "«q_0: ──────────────────────────\n",
      "«     ┌───────────┐             \n",
      "«q_1: ┤ RZ(θ[13]) ├─────────────\n",
      "«     ├───────────┤┌───────────┐\n",
      "«q_2: ┤ RY(θ[10]) ├┤ RZ(θ[14]) ├\n",
      "«     ├───────────┤├───────────┤\n",
      "«q_3: ┤ RY(θ[11]) ├┤ RZ(θ[15]) ├\n",
      "«     └───────────┘└───────────┘\n"
     ]
    }
   ],
   "source": [
    "print(ansatz)"
   ]
  },
  {
   "cell_type": "markdown",
   "id": "200d40be",
   "metadata": {},
   "source": [
    "# 6. Backend"
   ]
  },
  {
   "cell_type": "markdown",
   "id": "5ef6ef9f",
   "metadata": {},
   "source": [
    "This is where you specify the simulator or device where you want to run your algorithm. We will focus on the statevector_simulator in this challenge."
   ]
  },
  {
   "cell_type": "code",
   "execution_count": 11,
   "id": "ed984c2a",
   "metadata": {},
   "outputs": [],
   "source": [
    "backend = Aer.get_backend('statevector_simulator')\n"
   ]
  },
  {
   "cell_type": "markdown",
   "id": "db4a6b62",
   "metadata": {},
   "source": [
    "# 7. Optimizer"
   ]
  },
  {
   "cell_type": "markdown",
   "id": "d27e7afd",
   "metadata": {},
   "source": [
    "The optimizer guides the evolution of the parameters of the ansatz so it is very important to investigate the energy convergence as it would define the number of measurements that have to be performed on the QPU. A clever choice might reduce drastically the number of needed energy evaluations."
   ]
  },
  {
   "cell_type": "code",
   "execution_count": 12,
   "id": "18fec469",
   "metadata": {},
   "outputs": [],
   "source": [
    "optimizer_type = 'SLSQP'\n",
    "\n",
    "# You may want to tune the parameters \n",
    "# of each optimizer, here the defaults are used\n",
    "if optimizer_type == 'COBYLA':\n",
    "    optimizer = COBYLA(maxiter=5000)\n",
    "elif optimizer_type == 'L_BFGS_B':\n",
    "    optimizer = L_BFGS_B(maxfun=5000)\n",
    "elif optimizer_type == 'SPSA':\n",
    "    optimizer = SPSA(maxiter=5000)\n",
    "elif optimizer_type == 'SLSQP':\n",
    "    optimizer = SLSQP(maxiter=10000)"
   ]
  },
  {
   "cell_type": "markdown",
   "id": "b5a76852",
   "metadata": {},
   "source": [
    "# 8. Exact eigensolver"
   ]
  },
  {
   "cell_type": "markdown",
   "id": "1e16d8d6",
   "metadata": {},
   "source": [
    "For learning purposes, we can solve the problem exactly with the exact diagonalization of the Hamiltonian matrix so we know where to aim with VQE. Of course, the dimensions of this matrix scale exponentially in the number of molecular orbitals so you can try doing this for a large molecule of your choice and see how slow this becomes. For very large systems you would run out of memory trying to store their wavefunctions."
   ]
  },
  {
   "cell_type": "code",
   "execution_count": 13,
   "id": "85f8e18c",
   "metadata": {},
   "outputs": [
    {
     "name": "stdout",
     "output_type": "stream",
     "text": [
      "Exact electronic energy -1.0887060157347401\n",
      "=== GROUND STATE ENERGY ===\n",
      " \n",
      "* Electronic ground state energy (Hartree): -8.907396311316\n",
      "  - computed part:      -1.088706015735\n",
      "  - FreezeCoreTransformer extracted energy part: -7.818690295581\n",
      "~ Nuclear repulsion energy (Hartree): 1.025934879643\n",
      "> Total ground state energy (Hartree): -7.881461431673\n",
      " \n",
      "=== MEASURED OBSERVABLES ===\n",
      " \n",
      "  0:  # Particles: 2.000 S: 0.000 S^2: 0.000 M: 0.000\n",
      " \n",
      "=== DIPOLE MOMENTS ===\n",
      " \n",
      "~ Nuclear dipole moment (a.u.): [0.0  0.0  2.92416221]\n",
      " \n",
      "  0: \n",
      "  * Electronic dipole moment (a.u.): [0.0  0.0  4.76300889]\n",
      "    - computed part:      [0.0  0.0  4.76695575]\n",
      "    - FreezeCoreTransformer extracted energy part: [0.0  0.0  -0.00394686]\n",
      "  > Dipole moment (a.u.): [0.0  0.0  -1.83884668]  Total: 1.83884668\n",
      "                 (debye): [0.0  0.0  -4.67388163]  Total: 4.67388163\n",
      " \n"
     ]
    }
   ],
   "source": [
    "def exact_diagonalizer(problem, converter):\n",
    "    solver = NumPyMinimumEigensolverFactory()\n",
    "    calc = GroundStateEigensolver(converter, solver)\n",
    "    result = calc.solve(problem)\n",
    "    return result\n",
    "\n",
    "result_exact = exact_diagonalizer(problem, converter)\n",
    "exact_energy = np.real(result_exact.eigenenergies[0])\n",
    "print(\"Exact electronic energy\", exact_energy)\n",
    "print(result_exact)"
   ]
  },
  {
   "cell_type": "markdown",
   "id": "96c70d4f",
   "metadata": {},
   "source": [
    "# 9. VQE and initial parameters for the ansatz"
   ]
  },
  {
   "cell_type": "markdown",
   "id": "38bef64e",
   "metadata": {},
   "source": [
    "Now we can import the VQE class and run the algorithm.\n",
    "\n"
   ]
  },
  {
   "cell_type": "code",
   "execution_count": 14,
   "id": "fb8082a2",
   "metadata": {},
   "outputs": [],
   "source": [
    "# Print and save the data in lists\n",
    "def callback(eval_count, parameters, mean, std):  \n",
    "    # Overwrites the same line when printing\n",
    "    display(\"Evaluation: {}, Energy: {}, Std: {}\".format(eval_count, mean, std))\n",
    "    clear_output(wait=True)\n",
    "    counts.append(eval_count)\n",
    "    values.append(mean)\n",
    "    params.append(parameters)\n",
    "    deviation.append(std)\n",
    "\n",
    "counts = []\n",
    "values = []\n",
    "params = []\n",
    "deviation = []\n",
    "# Set initial parameters of the ansatz\n",
    "# We choose a fixed small displacement \n",
    "# So all participants start from similar starting point\n",
    "try:\n",
    "    initial_point = [0.01] * len(ansatz.ordered_parameters)\n",
    "except:\n",
    "    initial_point = [0.01] * ansatz.num_parameters"
   ]
  },
  {
   "cell_type": "code",
   "execution_count": 15,
   "id": "4ee008f3",
   "metadata": {},
   "outputs": [
    {
     "name": "stdout",
     "output_type": "stream",
     "text": [
      "{   'aux_operator_eigenvalues': None,\n",
      "    'cost_function_evals': 786,\n",
      "    'eigenstate': array([ 1.39110316e-03+1.62887433e-04j, -4.80366475e-03-1.47019740e-04j,\n",
      "        2.62453675e-02+8.47807400e-04j, -9.91330358e-01+1.36785569e-02j,\n",
      "       -5.37456330e-02-3.77354828e-03j, -3.69327924e-04-8.90831896e-05j,\n",
      "        8.79309002e-04-4.45908562e-06j, -2.32775854e-02+1.49204758e-03j,\n",
      "       -2.67383724e-03-7.05515028e-05j, -1.12000470e-05-8.31985413e-06j,\n",
      "        3.66946989e-06+2.34907335e-05j,  3.09840633e-04-9.10960983e-04j,\n",
      "        1.13572109e-01-2.69477801e-03j,  5.55557699e-04+1.40856940e-04j,\n",
      "       -5.49397255e-04+3.83202710e-05j, -2.96132153e-05-1.93825304e-05j]),\n",
      "    'eigenvalue': -1.0863472026328,\n",
      "    'optimal_parameters': {   ParameterVectorElement(θ[11]): 0.44245607340999576,\n",
      "                              ParameterVectorElement(θ[14]): -0.0501469987725114,\n",
      "                              ParameterVectorElement(θ[13]): -0.04486645057712711,\n",
      "                              ParameterVectorElement(θ[12]): -0.045884168123397635,\n",
      "                              ParameterVectorElement(θ[4]): -0.045182687931710194,\n",
      "                              ParameterVectorElement(θ[7]): 0.004099309527639037,\n",
      "                              ParameterVectorElement(θ[5]): 0.02861576461257871,\n",
      "                              ParameterVectorElement(θ[8]): 0.05228458579141648,\n",
      "                              ParameterVectorElement(θ[15]): -0.0960874830433439,\n",
      "                              ParameterVectorElement(θ[1]): -0.0054275384261921215,\n",
      "                              ParameterVectorElement(θ[3]): -2.6983122223673113,\n",
      "                              ParameterVectorElement(θ[10]): 3.1886723798611616,\n",
      "                              ParameterVectorElement(θ[6]): -0.07021516330237983,\n",
      "                              ParameterVectorElement(θ[9]): 3.1318856421378785,\n",
      "                              ParameterVectorElement(θ[2]): -3.1415185020610252,\n",
      "                              ParameterVectorElement(θ[0]): 0.252154744399071},\n",
      "    'optimal_point': array([ 0.25215474,  3.18867238,  0.44245607, -0.04588417, -0.04486645,\n",
      "       -0.050147  , -0.09608748, -0.00542754, -3.1415185 , -2.69831222,\n",
      "       -0.04518269,  0.02861576, -0.07021516,  0.00409931,  0.05228459,\n",
      "        3.13188564]),\n",
      "    'optimal_value': -1.0863472026328,\n",
      "    'optimizer_evals': 786,\n",
      "    'optimizer_time': 3.778228282928467}\n"
     ]
    }
   ],
   "source": [
    "algorithm = VQE(ansatz,\n",
    "                optimizer=optimizer,\n",
    "                quantum_instance=backend,\n",
    "                callback=callback,\n",
    "                initial_point=initial_point)\n",
    "\n",
    "result = algorithm.compute_minimum_eigenvalue(qubit_op)\n",
    "\n",
    "print(result)"
   ]
  },
  {
   "cell_type": "markdown",
   "id": "4f543ab5",
   "metadata": {},
   "source": [
    "# 10. Scoring function"
   ]
  },
  {
   "cell_type": "markdown",
   "id": "edcfcb68",
   "metadata": {},
   "source": [
    "We need to judge how good are your VQE simulations, your choice of ansatz/optimizer. For this, we implemented the following simple scoring function:\n",
    "\n",
    "$$ score = N_{CNOT}$$\n",
    "where $N_{CNOT}$ is the number of CNOTs. But you have to reach the chemical accuracy which is $\\delta E_{chem} = 0.004$ Ha $= 4$ mHa, which may be hard to reach depending on the problem. You have to reach the accuracy we set in a minimal number of CNOTs to win the challenge. The lower the score the better!"
   ]
  },
  {
   "cell_type": "code",
   "execution_count": 16,
   "id": "0e3fbe02",
   "metadata": {},
   "outputs": [],
   "source": [
    "# Unroller transpile your circuit into CNOTs and U gates\n",
    "pass_ = Unroller(['u', 'cx'])\n",
    "pm = PassManager(pass_)\n",
    "ansatz_tp = pm.run(ansatz)\n",
    "cnots = ansatz_tp.count_ops()['cx']\n",
    "score = cnots\n",
    "\n",
    "accuracy_threshold = 4.0 # in mHa\n",
    "energy = result.optimal_value\n",
    "\n",
    "if ansatz_type == \"TwoLocal\":\n",
    "    result_dict = {\n",
    "        'optimizer': optimizer.__class__.__name__,\n",
    "        'mapping': converter.mapper.__class__.__name__,\n",
    "        'ansatz': ansatz.__class__.__name__,\n",
    "        'rotation blocks': rotation_blocks,\n",
    "        'entanglement_blocks': entanglement_blocks,\n",
    "        'entanglement': entanglement,\n",
    "        'repetitions': repetitions,\n",
    "        'skip_final_rotation_layer': skip_final_rotation_layer,\n",
    "        'energy (Ha)': energy,\n",
    "        'error (mHa)': (energy-exact_energy)*1000,\n",
    "        'pass': (energy-exact_energy)*1000 <= accuracy_threshold,\n",
    "        '# of parameters': len(result.optimal_point),\n",
    "        'final parameters': result.optimal_point,\n",
    "        '# of evaluations': result.optimizer_evals,\n",
    "        'optimizer time': result.optimizer_time,\n",
    "        '# of qubits': int(qubit_op.num_qubits),\n",
    "        '# of CNOTs': cnots,\n",
    "        'score': score}\n",
    "else:\n",
    "    result_dict = {\n",
    "        'optimizer': optimizer.__class__.__name__,\n",
    "        'mapping': converter.mapper.__class__.__name__,\n",
    "        'ansatz': ansatz.__class__.__name__,\n",
    "        'rotation blocks': None,\n",
    "        'entanglement_blocks': None,\n",
    "        'entanglement': None,\n",
    "        'repetitions': None,\n",
    "        'skip_final_rotation_layer': None,\n",
    "        'energy (Ha)': energy,\n",
    "        'error (mHa)': (energy-exact_energy)*1000,\n",
    "        'pass': (energy-exact_energy)*1000 <= accuracy_threshold,\n",
    "        '# of parameters': len(result.optimal_point),\n",
    "        'final parameters': result.optimal_point,\n",
    "        '# of evaluations': result.optimizer_evals,\n",
    "        'optimizer time': result.optimizer_time,\n",
    "        '# of qubits': int(qubit_op.num_qubits),\n",
    "        '# of CNOTs': cnots,\n",
    "        'score': score}"
   ]
  },
  {
   "cell_type": "code",
   "execution_count": 17,
   "id": "7f88e035",
   "metadata": {},
   "outputs": [
    {
     "name": "stdout",
     "output_type": "stream",
     "text": [
      "Ansatz used:  TwoLocal\n",
      "Number of parameters:  16\n",
      "VQE Energy:  -1.0863472026328\n",
      "Error:  2.3588131019400826\n",
      "Pass/Fail:  True\n",
      "CNOT score:  3\n"
     ]
    }
   ],
   "source": [
    "print('Ansatz used: ', result_dict['ansatz'])\n",
    "print('Number of parameters: ', result_dict['# of parameters'])\n",
    "print('VQE Energy: ', result_dict['energy (Ha)'])\n",
    "print('Error: ', result_dict['error (mHa)'])\n",
    "print('Pass/Fail: ', result_dict['pass'])\n",
    "print('CNOT score: ', result_dict['score'])"
   ]
  },
  {
   "cell_type": "code",
   "execution_count": 18,
   "id": "ba39fec9",
   "metadata": {},
   "outputs": [
    {
     "data": {
      "text/html": [
       "<div>\n",
       "<style scoped>\n",
       "    .dataframe tbody tr th:only-of-type {\n",
       "        vertical-align: middle;\n",
       "    }\n",
       "\n",
       "    .dataframe tbody tr th {\n",
       "        vertical-align: top;\n",
       "    }\n",
       "\n",
       "    .dataframe thead th {\n",
       "        text-align: right;\n",
       "    }\n",
       "</style>\n",
       "<table border=\"1\" class=\"dataframe\">\n",
       "  <thead>\n",
       "    <tr style=\"text-align: right;\">\n",
       "      <th></th>\n",
       "      <th>optimizer</th>\n",
       "      <th>ansatz</th>\n",
       "      <th># of qubits</th>\n",
       "      <th># of parameters</th>\n",
       "      <th>rotation blocks</th>\n",
       "      <th>entanglement_blocks</th>\n",
       "      <th>entanglement</th>\n",
       "      <th>repetitions</th>\n",
       "      <th>error (mHa)</th>\n",
       "      <th>pass</th>\n",
       "      <th>score</th>\n",
       "    </tr>\n",
       "  </thead>\n",
       "  <tbody>\n",
       "    <tr>\n",
       "      <th>0</th>\n",
       "      <td>SLSQP</td>\n",
       "      <td>TwoLocal</td>\n",
       "      <td>4</td>\n",
       "      <td>16</td>\n",
       "      <td>[ry, rz]</td>\n",
       "      <td>cx</td>\n",
       "      <td>linear</td>\n",
       "      <td>1</td>\n",
       "      <td>2.358813</td>\n",
       "      <td>True</td>\n",
       "      <td>3</td>\n",
       "    </tr>\n",
       "  </tbody>\n",
       "</table>\n",
       "</div>"
      ],
      "text/plain": [
       "  optimizer    ansatz  # of qubits  # of parameters rotation blocks  \\\n",
       "0     SLSQP  TwoLocal            4               16        [ry, rz]   \n",
       "\n",
       "  entanglement_blocks entanglement  repetitions  error (mHa)  pass  score  \n",
       "0                  cx       linear            1     2.358813  True      3  "
      ]
     },
     "execution_count": 18,
     "metadata": {},
     "output_type": "execute_result"
    },
    {
     "data": {
      "image/png": "[encoded data removed]",
      "text/plain": [
       "<Figure size 432x288 with 1 Axes>"
      ]
     },
     "metadata": {
      "needs_background": "light"
     },
     "output_type": "display_data"
    }
   ],
   "source": [
    "# Plot the results\n",
    "import matplotlib.pyplot as plt\n",
    "\n",
    "fig, ax = plt.subplots(1, 1)\n",
    "ax.set_xlabel('Iterations')\n",
    "ax.set_ylabel('Energy')\n",
    "ax.grid()\n",
    "fig.text(0.7, 0.75, f'Energy: {result.optimal_value:.3f}\\nScore: {score:.0f}')\n",
    "plt.title(f\"{result_dict['optimizer']}-{result_dict['mapping']}\\n{result_dict['ansatz']}\")\n",
    "ax.plot(counts, values)\n",
    "ax.axhline(exact_energy, linestyle='--')\n",
    "fig_title = f\"\\\n",
    "{result_dict['optimizer']}-\\\n",
    "{result_dict['mapping']}-\\\n",
    "{result_dict['ansatz']}-\\\n",
    "Energy({result_dict['energy (Ha)']:.3f})-\\\n",
    "Score({result_dict['score']:.0f})\\\n",
    ".png\"\n",
    "fig.savefig(fig_title, dpi=300)\n",
    "\n",
    "# Display and save the data\n",
    "import pandas as pd\n",
    "import os.path\n",
    "filename = 'results_h2.csv'\n",
    "if os.path.isfile(filename):\n",
    "    result_df = pd.read_csv(filename)\n",
    "    result_df = result_df.append([result_dict])\n",
    "else:\n",
    "    result_df = pd.DataFrame.from_dict([result_dict])\n",
    "result_df.to_csv(filename)\n",
    "result_df[['optimizer','ansatz', '# of qubits', '# of parameters','rotation blocks', 'entanglement_blocks',\n",
    "    'entanglement', 'repetitions', 'error (mHa)', 'pass', 'score']]"
   ]
  },
  {
   "cell_type": "markdown",
   "id": "1dfcde73",
   "metadata": {},
   "source": [
    "# 11. Grading"
   ]
  },
  {
   "cell_type": "code",
   "execution_count": 19,
   "id": "ac39a11a",
   "metadata": {},
   "outputs": [
    {
     "name": "stdout",
     "output_type": "stream",
     "text": [
      "Grading your answer for ex5. Please wait...\n",
      "\n",
      "Congratulations 🎉! Your answer is correct.\n",
      "Your cost is 3.\n",
      "Feel free to submit your answer.\n",
      "\n"
     ]
    }
   ],
   "source": [
    "# Check your answer using following code\n",
    "from qc_grader import grade_ex5\n",
    "freeze_core = True # change to True if you freezed core electrons\n",
    "grade_ex5(ansatz,qubit_op,result,freeze_core)"
   ]
  }
 ],
 "metadata": {
  "kernelspec": {
   "display_name": "Python 3",
   "language": "python",
   "name": "python3"
  },
  "language_info": {
   "codemirror_mode": {
    "name": "ipython",
    "version": 3
   },
   "file_extension": ".py",
   "mimetype": "text/x-python",
   "name": "python",
   "nbconvert_exporter": "python",
   "pygments_lexer": "ipython3",
   "version": "3.8.8"
  }
 },
 "nbformat": 4,
 "nbformat_minor": 5
}
